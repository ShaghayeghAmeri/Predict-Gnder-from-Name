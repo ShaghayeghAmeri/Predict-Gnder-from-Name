{
 "cells": [
  {
   "cell_type": "code",
   "execution_count": 1,
   "id": "a528ee14-84ca-48c8-829a-b860421257b6",
   "metadata": {},
   "outputs": [
    {
     "name": "stdout",
     "output_type": "stream",
     "text": [
      "Requirement already satisfied: faker in /home/shaghayegh/anaconda3/envs/ML/lib/python3.7/site-packages (14.2.0)\n",
      "Requirement already satisfied: python-dateutil>=2.4 in /home/shaghayegh/anaconda3/envs/ML/lib/python3.7/site-packages (from faker) (2.8.2)\n",
      "Requirement already satisfied: typing-extensions>=3.7.4.3 in /home/shaghayegh/anaconda3/envs/ML/lib/python3.7/site-packages (from faker) (4.1.1)\n",
      "Requirement already satisfied: six>=1.5 in /home/shaghayegh/anaconda3/envs/ML/lib/python3.7/site-packages (from python-dateutil>=2.4->faker) (1.16.0)\n",
      "Requirement already satisfied: names_dataset in /home/shaghayegh/anaconda3/envs/ML/lib/python3.7/site-packages (3.1.0)\n",
      "Requirement already satisfied: pycountry in /home/shaghayegh/anaconda3/envs/ML/lib/python3.7/site-packages (from names_dataset) (22.3.5)\n",
      "Requirement already satisfied: setuptools in /home/shaghayegh/anaconda3/envs/ML/lib/python3.7/site-packages (from pycountry->names_dataset) (61.2.0)\n"
     ]
    }
   ],
   "source": [
    "!pip install faker\n",
    "!pip install names_dataset"
   ]
  },
  {
   "cell_type": "code",
   "execution_count": 37,
   "id": "60edf6fe-e61f-4e71-ac96-85447c94b792",
   "metadata": {},
   "outputs": [],
   "source": [
    "import pandas as pd\n",
    "import numpy as np"
   ]
  },
  {
   "cell_type": "code",
   "execution_count": 38,
   "id": "d288eda6-9830-476c-87b6-81520e7db8ec",
   "metadata": {},
   "outputs": [],
   "source": [
    "from faker import Faker"
   ]
  },
  {
   "cell_type": "code",
   "execution_count": 39,
   "id": "dd58acad-8456-43e6-9b73-82c436dc1ec9",
   "metadata": {},
   "outputs": [],
   "source": [
    "en_fake = Faker()\n",
    "fa_fake = Faker('fa')"
   ]
  },
  {
   "cell_type": "code",
   "execution_count": 40,
   "id": "45ce5339-1648-4df3-adff-3d4a34f0febe",
   "metadata": {},
   "outputs": [],
   "source": [
    "from names_dataset import NameDataset\n",
    "\n",
    "nd = NameDataset()"
   ]
  },
  {
   "cell_type": "code",
   "execution_count": 41,
   "id": "5fa408fa-6233-498c-a0ad-f0d8fb78a6db",
   "metadata": {},
   "outputs": [],
   "source": [
    "def make_name():\n",
    "    if np.random.rand() > 0.5:\n",
    "        return en_fake.name()\n",
    "    return fa_fake.name()"
   ]
  },
  {
   "cell_type": "code",
   "execution_count": 42,
   "id": "34301b0f-7093-4699-b9bc-3878b4767494",
   "metadata": {},
   "outputs": [],
   "source": [
    "df = pd.DataFrame({\n",
    "    'Name': [make_name() for _ in range(10)]\n",
    "})"
   ]
  },
  {
   "cell_type": "markdown",
   "id": "85311a18-f7fc-430d-adeb-20c43b438d23",
   "metadata": {},
   "source": [
    "# Extract First name and Last name"
   ]
  },
  {
   "cell_type": "code",
   "execution_count": 79,
   "id": "3a9206a8-0061-42b7-b702-62d3b27ed234",
   "metadata": {},
   "outputs": [],
   "source": [
    "def get_fname_lname(name):\n",
    "    first_name, *_, last_name = name.split()\n",
    "    return first_name, last_name"
   ]
  },
  {
   "cell_type": "code",
   "execution_count": 80,
   "id": "b7ad596e-b32e-484f-8297-035319fbfeb9",
   "metadata": {},
   "outputs": [],
   "source": [
    "df['First Name'] = df['Name'].apply(\n",
    "    lambda full_name: full_name.split()[0]\n",
    ")"
   ]
  },
  {
   "cell_type": "code",
   "execution_count": 81,
   "id": "5bf4ca13-a39f-4787-89bc-ba9486845262",
   "metadata": {},
   "outputs": [],
   "source": [
    "df['Last Name'] = df['Name'].apply(\n",
    "    lambda full_name: full_name.split()[-1]\n",
    ")"
   ]
  },
  {
   "cell_type": "code",
   "execution_count": 82,
   "id": "9f7c9eb7-d5ba-457a-9aba-42da061de20e",
   "metadata": {},
   "outputs": [
    {
     "data": {
      "text/html": [
       "<div>\n",
       "<style scoped>\n",
       "    .dataframe tbody tr th:only-of-type {\n",
       "        vertical-align: middle;\n",
       "    }\n",
       "\n",
       "    .dataframe tbody tr th {\n",
       "        vertical-align: top;\n",
       "    }\n",
       "\n",
       "    .dataframe thead th {\n",
       "        text-align: right;\n",
       "    }\n",
       "</style>\n",
       "<table border=\"1\" class=\"dataframe\">\n",
       "  <thead>\n",
       "    <tr style=\"text-align: right;\">\n",
       "      <th></th>\n",
       "      <th>Name</th>\n",
       "      <th>First Name</th>\n",
       "      <th>Last Name</th>\n",
       "    </tr>\n",
       "  </thead>\n",
       "  <tbody>\n",
       "    <tr>\n",
       "      <th>0</th>\n",
       "      <td>مهسا حسنی</td>\n",
       "      <td>مهسا</td>\n",
       "      <td>حسنی</td>\n",
       "    </tr>\n",
       "    <tr>\n",
       "      <th>1</th>\n",
       "      <td>Timothy Brooks</td>\n",
       "      <td>Timothy</td>\n",
       "      <td>Brooks</td>\n",
       "    </tr>\n",
       "    <tr>\n",
       "      <th>2</th>\n",
       "      <td>سرکار خانم دکتر حلما دادفر</td>\n",
       "      <td>سرکار</td>\n",
       "      <td>دادفر</td>\n",
       "    </tr>\n",
       "    <tr>\n",
       "      <th>3</th>\n",
       "      <td>Kimberly Riggs</td>\n",
       "      <td>Kimberly</td>\n",
       "      <td>Riggs</td>\n",
       "    </tr>\n",
       "    <tr>\n",
       "      <th>4</th>\n",
       "      <td>Margaret Arnold</td>\n",
       "      <td>Margaret</td>\n",
       "      <td>Arnold</td>\n",
       "    </tr>\n",
       "    <tr>\n",
       "      <th>5</th>\n",
       "      <td>Jose Jackson</td>\n",
       "      <td>Jose</td>\n",
       "      <td>Jackson</td>\n",
       "    </tr>\n",
       "    <tr>\n",
       "      <th>6</th>\n",
       "      <td>Zachary Mendez</td>\n",
       "      <td>Zachary</td>\n",
       "      <td>Mendez</td>\n",
       "    </tr>\n",
       "    <tr>\n",
       "      <th>7</th>\n",
       "      <td>Amanda Carrillo</td>\n",
       "      <td>Amanda</td>\n",
       "      <td>Carrillo</td>\n",
       "    </tr>\n",
       "    <tr>\n",
       "      <th>8</th>\n",
       "      <td>Darrell Howell</td>\n",
       "      <td>Darrell</td>\n",
       "      <td>Howell</td>\n",
       "    </tr>\n",
       "    <tr>\n",
       "      <th>9</th>\n",
       "      <td>حسين علی شاهی</td>\n",
       "      <td>حسين</td>\n",
       "      <td>شاهی</td>\n",
       "    </tr>\n",
       "  </tbody>\n",
       "</table>\n",
       "</div>"
      ],
      "text/plain": [
       "                         Name First Name Last Name\n",
       "0                   مهسا حسنی       مهسا      حسنی\n",
       "1              Timothy Brooks    Timothy    Brooks\n",
       "2  سرکار خانم دکتر حلما دادفر      سرکار     دادفر\n",
       "3              Kimberly Riggs   Kimberly     Riggs\n",
       "4             Margaret Arnold   Margaret    Arnold\n",
       "5                Jose Jackson       Jose   Jackson\n",
       "6              Zachary Mendez    Zachary    Mendez\n",
       "7             Amanda Carrillo     Amanda  Carrillo\n",
       "8              Darrell Howell    Darrell    Howell\n",
       "9               حسين علی شاهی       حسين      شاهی"
      ]
     },
     "execution_count": 82,
     "metadata": {},
     "output_type": "execute_result"
    }
   ],
   "source": [
    "df"
   ]
  },
  {
   "cell_type": "markdown",
   "id": "ce38b95f-7b2e-4b43-af5b-0032879d57ee",
   "metadata": {},
   "source": [
    "# Predict Gender"
   ]
  },
  {
   "cell_type": "code",
   "execution_count": 83,
   "id": "990fb3f6-f42f-46d9-9b73-48be3c4564bc",
   "metadata": {},
   "outputs": [],
   "source": [
    "def name_to_gender(first_name):\n",
    "    info = nd.search(first_name)['first_name']\n",
    "    if info is None:\n",
    "        return None\n",
    "    \n",
    "    return max(info['gender'], key=info['gender'].get)"
   ]
  },
  {
   "cell_type": "code",
   "execution_count": 84,
   "id": "9301149a-fa2e-4f03-a461-da3d74b8978f",
   "metadata": {
    "tags": []
   },
   "outputs": [],
   "source": [
    "# For unknown names, it returns None\n",
    "name_to_gender(\"drdufj\")"
   ]
  },
  {
   "cell_type": "code",
   "execution_count": 85,
   "id": "583a8acd-6436-4be9-bab2-129b851758ee",
   "metadata": {},
   "outputs": [
    {
     "data": {
      "text/plain": [
       "'Male'"
      ]
     },
     "execution_count": 85,
     "metadata": {},
     "output_type": "execute_result"
    }
   ],
   "source": [
    "name_to_gender(\"سیامک\")"
   ]
  },
  {
   "cell_type": "code",
   "execution_count": 86,
   "id": "06d270cb-3b21-4a99-a100-03d6022b6ccd",
   "metadata": {},
   "outputs": [],
   "source": [
    "df['Gebder'] = df['First Name'].apply(name_to_gender)"
   ]
  },
  {
   "cell_type": "code",
   "execution_count": 87,
   "id": "e4ffc04e-8498-47bc-9ee0-47e182f974ff",
   "metadata": {},
   "outputs": [
    {
     "data": {
      "text/html": [
       "<div>\n",
       "<style scoped>\n",
       "    .dataframe tbody tr th:only-of-type {\n",
       "        vertical-align: middle;\n",
       "    }\n",
       "\n",
       "    .dataframe tbody tr th {\n",
       "        vertical-align: top;\n",
       "    }\n",
       "\n",
       "    .dataframe thead th {\n",
       "        text-align: right;\n",
       "    }\n",
       "</style>\n",
       "<table border=\"1\" class=\"dataframe\">\n",
       "  <thead>\n",
       "    <tr style=\"text-align: right;\">\n",
       "      <th></th>\n",
       "      <th>Name</th>\n",
       "      <th>First Name</th>\n",
       "      <th>Last Name</th>\n",
       "      <th>Gebder</th>\n",
       "    </tr>\n",
       "  </thead>\n",
       "  <tbody>\n",
       "    <tr>\n",
       "      <th>0</th>\n",
       "      <td>مهسا حسنی</td>\n",
       "      <td>مهسا</td>\n",
       "      <td>حسنی</td>\n",
       "      <td>Female</td>\n",
       "    </tr>\n",
       "    <tr>\n",
       "      <th>1</th>\n",
       "      <td>Timothy Brooks</td>\n",
       "      <td>Timothy</td>\n",
       "      <td>Brooks</td>\n",
       "      <td>Male</td>\n",
       "    </tr>\n",
       "    <tr>\n",
       "      <th>2</th>\n",
       "      <td>سرکار خانم دکتر حلما دادفر</td>\n",
       "      <td>سرکار</td>\n",
       "      <td>دادفر</td>\n",
       "      <td>None</td>\n",
       "    </tr>\n",
       "    <tr>\n",
       "      <th>3</th>\n",
       "      <td>Kimberly Riggs</td>\n",
       "      <td>Kimberly</td>\n",
       "      <td>Riggs</td>\n",
       "      <td>Female</td>\n",
       "    </tr>\n",
       "    <tr>\n",
       "      <th>4</th>\n",
       "      <td>Margaret Arnold</td>\n",
       "      <td>Margaret</td>\n",
       "      <td>Arnold</td>\n",
       "      <td>Female</td>\n",
       "    </tr>\n",
       "    <tr>\n",
       "      <th>5</th>\n",
       "      <td>Jose Jackson</td>\n",
       "      <td>Jose</td>\n",
       "      <td>Jackson</td>\n",
       "      <td>Male</td>\n",
       "    </tr>\n",
       "    <tr>\n",
       "      <th>6</th>\n",
       "      <td>Zachary Mendez</td>\n",
       "      <td>Zachary</td>\n",
       "      <td>Mendez</td>\n",
       "      <td>Male</td>\n",
       "    </tr>\n",
       "    <tr>\n",
       "      <th>7</th>\n",
       "      <td>Amanda Carrillo</td>\n",
       "      <td>Amanda</td>\n",
       "      <td>Carrillo</td>\n",
       "      <td>Female</td>\n",
       "    </tr>\n",
       "    <tr>\n",
       "      <th>8</th>\n",
       "      <td>Darrell Howell</td>\n",
       "      <td>Darrell</td>\n",
       "      <td>Howell</td>\n",
       "      <td>Male</td>\n",
       "    </tr>\n",
       "    <tr>\n",
       "      <th>9</th>\n",
       "      <td>حسين علی شاهی</td>\n",
       "      <td>حسين</td>\n",
       "      <td>شاهی</td>\n",
       "      <td>Male</td>\n",
       "    </tr>\n",
       "  </tbody>\n",
       "</table>\n",
       "</div>"
      ],
      "text/plain": [
       "                         Name First Name Last Name  Gebder\n",
       "0                   مهسا حسنی       مهسا      حسنی  Female\n",
       "1              Timothy Brooks    Timothy    Brooks    Male\n",
       "2  سرکار خانم دکتر حلما دادفر      سرکار     دادفر    None\n",
       "3              Kimberly Riggs   Kimberly     Riggs  Female\n",
       "4             Margaret Arnold   Margaret    Arnold  Female\n",
       "5                Jose Jackson       Jose   Jackson    Male\n",
       "6              Zachary Mendez    Zachary    Mendez    Male\n",
       "7             Amanda Carrillo     Amanda  Carrillo  Female\n",
       "8              Darrell Howell    Darrell    Howell    Male\n",
       "9               حسين علی شاهی       حسين      شاهی    Male"
      ]
     },
     "execution_count": 87,
     "metadata": {},
     "output_type": "execute_result"
    }
   ],
   "source": [
    "df"
   ]
  },
  {
   "cell_type": "markdown",
   "id": "a4cc999b-b7e3-466e-a67a-6476dd9c2da3",
   "metadata": {},
   "source": [
    "# Gender Probibility"
   ]
  },
  {
   "cell_type": "code",
   "execution_count": 122,
   "id": "cd392314-c566-4ca5-85bb-37980b90f109",
   "metadata": {},
   "outputs": [],
   "source": [
    "def gender_prob(first_name):\n",
    "    probibility = nd.search(first_name)['first_name']\n",
    "    if probibility is None:\n",
    "        return None\n",
    "    return probibility['gender'].get(max(probibility['gender']))"
   ]
  },
  {
   "cell_type": "code",
   "execution_count": 123,
   "id": "36b60bea-6e48-4de4-8099-dcfc7f3e22f1",
   "metadata": {},
   "outputs": [
    {
     "data": {
      "text/plain": [
       "0.942"
      ]
     },
     "execution_count": 123,
     "metadata": {},
     "output_type": "execute_result"
    }
   ],
   "source": [
    "gender_prob('ali')"
   ]
  },
  {
   "cell_type": "code",
   "execution_count": 124,
   "id": "90058cba-f6ea-4065-868f-d3c2e3fd41fc",
   "metadata": {},
   "outputs": [],
   "source": [
    "df['Gender Probibility'] = df['First Name'].apply(gender_prob)"
   ]
  },
  {
   "cell_type": "code",
   "execution_count": 125,
   "id": "57c434ee-bca9-461c-a39f-f5ee2ea323ec",
   "metadata": {},
   "outputs": [
    {
     "data": {
      "text/html": [
       "<div>\n",
       "<style scoped>\n",
       "    .dataframe tbody tr th:only-of-type {\n",
       "        vertical-align: middle;\n",
       "    }\n",
       "\n",
       "    .dataframe tbody tr th {\n",
       "        vertical-align: top;\n",
       "    }\n",
       "\n",
       "    .dataframe thead th {\n",
       "        text-align: right;\n",
       "    }\n",
       "</style>\n",
       "<table border=\"1\" class=\"dataframe\">\n",
       "  <thead>\n",
       "    <tr style=\"text-align: right;\">\n",
       "      <th></th>\n",
       "      <th>Name</th>\n",
       "      <th>First Name</th>\n",
       "      <th>Last Name</th>\n",
       "      <th>Gebder</th>\n",
       "      <th>Gender Probibility</th>\n",
       "    </tr>\n",
       "  </thead>\n",
       "  <tbody>\n",
       "    <tr>\n",
       "      <th>0</th>\n",
       "      <td>مهسا حسنی</td>\n",
       "      <td>مهسا</td>\n",
       "      <td>حسنی</td>\n",
       "      <td>Female</td>\n",
       "      <td>0.056</td>\n",
       "    </tr>\n",
       "    <tr>\n",
       "      <th>1</th>\n",
       "      <td>Timothy Brooks</td>\n",
       "      <td>Timothy</td>\n",
       "      <td>Brooks</td>\n",
       "      <td>Male</td>\n",
       "      <td>0.988</td>\n",
       "    </tr>\n",
       "    <tr>\n",
       "      <th>2</th>\n",
       "      <td>سرکار خانم دکتر حلما دادفر</td>\n",
       "      <td>سرکار</td>\n",
       "      <td>دادفر</td>\n",
       "      <td>None</td>\n",
       "      <td>NaN</td>\n",
       "    </tr>\n",
       "    <tr>\n",
       "      <th>3</th>\n",
       "      <td>Kimberly Riggs</td>\n",
       "      <td>Kimberly</td>\n",
       "      <td>Riggs</td>\n",
       "      <td>Female</td>\n",
       "      <td>0.010</td>\n",
       "    </tr>\n",
       "    <tr>\n",
       "      <th>4</th>\n",
       "      <td>Margaret Arnold</td>\n",
       "      <td>Margaret</td>\n",
       "      <td>Arnold</td>\n",
       "      <td>Female</td>\n",
       "      <td>0.007</td>\n",
       "    </tr>\n",
       "    <tr>\n",
       "      <th>5</th>\n",
       "      <td>Jose Jackson</td>\n",
       "      <td>Jose</td>\n",
       "      <td>Jackson</td>\n",
       "      <td>Male</td>\n",
       "      <td>0.981</td>\n",
       "    </tr>\n",
       "    <tr>\n",
       "      <th>6</th>\n",
       "      <td>Zachary Mendez</td>\n",
       "      <td>Zachary</td>\n",
       "      <td>Mendez</td>\n",
       "      <td>Male</td>\n",
       "      <td>0.990</td>\n",
       "    </tr>\n",
       "    <tr>\n",
       "      <th>7</th>\n",
       "      <td>Amanda Carrillo</td>\n",
       "      <td>Amanda</td>\n",
       "      <td>Carrillo</td>\n",
       "      <td>Female</td>\n",
       "      <td>0.013</td>\n",
       "    </tr>\n",
       "    <tr>\n",
       "      <th>8</th>\n",
       "      <td>Darrell Howell</td>\n",
       "      <td>Darrell</td>\n",
       "      <td>Howell</td>\n",
       "      <td>Male</td>\n",
       "      <td>0.986</td>\n",
       "    </tr>\n",
       "    <tr>\n",
       "      <th>9</th>\n",
       "      <td>حسين علی شاهی</td>\n",
       "      <td>حسين</td>\n",
       "      <td>شاهی</td>\n",
       "      <td>Male</td>\n",
       "      <td>0.973</td>\n",
       "    </tr>\n",
       "  </tbody>\n",
       "</table>\n",
       "</div>"
      ],
      "text/plain": [
       "                         Name First Name Last Name  Gebder  Gender Probibility\n",
       "0                   مهسا حسنی       مهسا      حسنی  Female               0.056\n",
       "1              Timothy Brooks    Timothy    Brooks    Male               0.988\n",
       "2  سرکار خانم دکتر حلما دادفر      سرکار     دادفر    None                 NaN\n",
       "3              Kimberly Riggs   Kimberly     Riggs  Female               0.010\n",
       "4             Margaret Arnold   Margaret    Arnold  Female               0.007\n",
       "5                Jose Jackson       Jose   Jackson    Male               0.981\n",
       "6              Zachary Mendez    Zachary    Mendez    Male               0.990\n",
       "7             Amanda Carrillo     Amanda  Carrillo  Female               0.013\n",
       "8              Darrell Howell    Darrell    Howell    Male               0.986\n",
       "9               حسين علی شاهی       حسين      شاهی    Male               0.973"
      ]
     },
     "execution_count": 125,
     "metadata": {},
     "output_type": "execute_result"
    }
   ],
   "source": [
    "df"
   ]
  },
  {
   "cell_type": "markdown",
   "id": "32c73e1a-3e45-4d00-b40f-9610fab35415",
   "metadata": {},
   "source": [
    "# Country"
   ]
  },
  {
   "cell_type": "code",
   "execution_count": 139,
   "id": "83fb2216-1ac6-40b3-940d-54a4572ac2d0",
   "metadata": {},
   "outputs": [],
   "source": [
    "def country(first_name):\n",
    "    info = nd.search(first_name)['first_name']\n",
    "    if info is None:\n",
    "        return None\n",
    "    return max(info['country'])"
   ]
  },
  {
   "cell_type": "code",
   "execution_count": 140,
   "id": "b09b312e-2b26-4804-8492-48d76445249f",
   "metadata": {},
   "outputs": [],
   "source": [
    "df['Country'] = df['First Name'].apply(country)"
   ]
  },
  {
   "cell_type": "code",
   "execution_count": 141,
   "id": "190187e0-eecc-44f3-aca4-5756bf25e5e8",
   "metadata": {},
   "outputs": [
    {
     "data": {
      "text/html": [
       "<div>\n",
       "<style scoped>\n",
       "    .dataframe tbody tr th:only-of-type {\n",
       "        vertical-align: middle;\n",
       "    }\n",
       "\n",
       "    .dataframe tbody tr th {\n",
       "        vertical-align: top;\n",
       "    }\n",
       "\n",
       "    .dataframe thead th {\n",
       "        text-align: right;\n",
       "    }\n",
       "</style>\n",
       "<table border=\"1\" class=\"dataframe\">\n",
       "  <thead>\n",
       "    <tr style=\"text-align: right;\">\n",
       "      <th></th>\n",
       "      <th>Name</th>\n",
       "      <th>First Name</th>\n",
       "      <th>Last Name</th>\n",
       "      <th>Gebder</th>\n",
       "      <th>Gender Probibility</th>\n",
       "      <th>Country</th>\n",
       "    </tr>\n",
       "  </thead>\n",
       "  <tbody>\n",
       "    <tr>\n",
       "      <th>0</th>\n",
       "      <td>مهسا حسنی</td>\n",
       "      <td>مهسا</td>\n",
       "      <td>حسنی</td>\n",
       "      <td>Female</td>\n",
       "      <td>0.056</td>\n",
       "      <td>United Arab Emirates</td>\n",
       "    </tr>\n",
       "    <tr>\n",
       "      <th>1</th>\n",
       "      <td>Timothy Brooks</td>\n",
       "      <td>Timothy</td>\n",
       "      <td>Brooks</td>\n",
       "      <td>Male</td>\n",
       "      <td>0.988</td>\n",
       "      <td>United States</td>\n",
       "    </tr>\n",
       "    <tr>\n",
       "      <th>2</th>\n",
       "      <td>سرکار خانم دکتر حلما دادفر</td>\n",
       "      <td>سرکار</td>\n",
       "      <td>دادفر</td>\n",
       "      <td>None</td>\n",
       "      <td>NaN</td>\n",
       "      <td>None</td>\n",
       "    </tr>\n",
       "    <tr>\n",
       "      <th>3</th>\n",
       "      <td>Kimberly Riggs</td>\n",
       "      <td>Kimberly</td>\n",
       "      <td>Riggs</td>\n",
       "      <td>Female</td>\n",
       "      <td>0.010</td>\n",
       "      <td>United States</td>\n",
       "    </tr>\n",
       "    <tr>\n",
       "      <th>4</th>\n",
       "      <td>Margaret Arnold</td>\n",
       "      <td>Margaret</td>\n",
       "      <td>Arnold</td>\n",
       "      <td>Female</td>\n",
       "      <td>0.007</td>\n",
       "      <td>United States</td>\n",
       "    </tr>\n",
       "    <tr>\n",
       "      <th>5</th>\n",
       "      <td>Jose Jackson</td>\n",
       "      <td>Jose</td>\n",
       "      <td>Jackson</td>\n",
       "      <td>Male</td>\n",
       "      <td>0.981</td>\n",
       "      <td>United States</td>\n",
       "    </tr>\n",
       "    <tr>\n",
       "      <th>6</th>\n",
       "      <td>Zachary Mendez</td>\n",
       "      <td>Zachary</td>\n",
       "      <td>Mendez</td>\n",
       "      <td>Male</td>\n",
       "      <td>0.990</td>\n",
       "      <td>United States</td>\n",
       "    </tr>\n",
       "    <tr>\n",
       "      <th>7</th>\n",
       "      <td>Amanda Carrillo</td>\n",
       "      <td>Amanda</td>\n",
       "      <td>Carrillo</td>\n",
       "      <td>Female</td>\n",
       "      <td>0.013</td>\n",
       "      <td>United States</td>\n",
       "    </tr>\n",
       "    <tr>\n",
       "      <th>8</th>\n",
       "      <td>Darrell Howell</td>\n",
       "      <td>Darrell</td>\n",
       "      <td>Howell</td>\n",
       "      <td>Male</td>\n",
       "      <td>0.986</td>\n",
       "      <td>United States</td>\n",
       "    </tr>\n",
       "    <tr>\n",
       "      <th>9</th>\n",
       "      <td>حسين علی شاهی</td>\n",
       "      <td>حسين</td>\n",
       "      <td>شاهی</td>\n",
       "      <td>Male</td>\n",
       "      <td>0.973</td>\n",
       "      <td>Yemen</td>\n",
       "    </tr>\n",
       "  </tbody>\n",
       "</table>\n",
       "</div>"
      ],
      "text/plain": [
       "                         Name First Name Last Name  Gebder  \\\n",
       "0                   مهسا حسنی       مهسا      حسنی  Female   \n",
       "1              Timothy Brooks    Timothy    Brooks    Male   \n",
       "2  سرکار خانم دکتر حلما دادفر      سرکار     دادفر    None   \n",
       "3              Kimberly Riggs   Kimberly     Riggs  Female   \n",
       "4             Margaret Arnold   Margaret    Arnold  Female   \n",
       "5                Jose Jackson       Jose   Jackson    Male   \n",
       "6              Zachary Mendez    Zachary    Mendez    Male   \n",
       "7             Amanda Carrillo     Amanda  Carrillo  Female   \n",
       "8              Darrell Howell    Darrell    Howell    Male   \n",
       "9               حسين علی شاهی       حسين      شاهی    Male   \n",
       "\n",
       "   Gender Probibility               Country  \n",
       "0               0.056  United Arab Emirates  \n",
       "1               0.988         United States  \n",
       "2                 NaN                  None  \n",
       "3               0.010         United States  \n",
       "4               0.007         United States  \n",
       "5               0.981         United States  \n",
       "6               0.990         United States  \n",
       "7               0.013         United States  \n",
       "8               0.986         United States  \n",
       "9               0.973                 Yemen  "
      ]
     },
     "execution_count": 141,
     "metadata": {},
     "output_type": "execute_result"
    }
   ],
   "source": [
    "df"
   ]
  },
  {
   "cell_type": "code",
   "execution_count": null,
   "id": "63adfa54-3b75-43dd-aaed-f9732112e94c",
   "metadata": {},
   "outputs": [],
   "source": []
  }
 ],
 "metadata": {
  "kernelspec": {
   "display_name": "Python 3 (ipykernel)",
   "language": "python",
   "name": "python3"
  },
  "language_info": {
   "codemirror_mode": {
    "name": "ipython",
    "version": 3
   },
   "file_extension": ".py",
   "mimetype": "text/x-python",
   "name": "python",
   "nbconvert_exporter": "python",
   "pygments_lexer": "ipython3",
   "version": "3.7.13"
  }
 },
 "nbformat": 4,
 "nbformat_minor": 5
}
