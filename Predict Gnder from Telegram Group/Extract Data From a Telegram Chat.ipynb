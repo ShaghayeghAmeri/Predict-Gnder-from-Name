{
 "cells": [
  {
   "cell_type": "code",
   "execution_count": 1,
   "id": "70f95b68-f04e-4724-8d68-cb86f783700d",
   "metadata": {},
   "outputs": [],
   "source": [
    "import json\n",
    "import pandas as pd\n",
    "from collections import Counter\n",
    "from names_dataset import NameDataset"
   ]
  },
  {
   "cell_type": "code",
   "execution_count": 2,
   "id": "49a9433c-c195-4ac8-b20a-3695d30373c3",
   "metadata": {},
   "outputs": [],
   "source": [
    "nd = NameDataset()"
   ]
  },
  {
   "cell_type": "code",
   "execution_count": 3,
   "id": "7a7a2428-ff8f-4757-8df2-5e49b73e6598",
   "metadata": {},
   "outputs": [],
   "source": [
    "with open('./data/pytopia-chat-export.json') as f:\n",
    "    data = json.load(f)"
   ]
  },
  {
   "cell_type": "code",
   "execution_count": 4,
   "id": "2d93d039-aaf9-41b0-9432-fb9dc1399dab",
   "metadata": {},
   "outputs": [],
   "source": [
    "Names = []\n",
    "names_set = set()\n",
    "for msg in data['messages']:\n",
    "    if not msg.get('from'):\n",
    "        continue\n",
    "        \n",
    "    if msg['from_id'] in names_set:\n",
    "        continue\n",
    "        \n",
    "    names_set.add(msg['from_id'])\n",
    "    Names.append(msg['from'])"
   ]
  },
  {
   "cell_type": "code",
   "execution_count": 5,
   "id": "f9dd39d4-ea68-4629-8cf0-640167114f54",
   "metadata": {},
   "outputs": [],
   "source": [
    "first_name = [n.split()[0].lower() for n in Names]"
   ]
  },
  {
   "cell_type": "code",
   "execution_count": 6,
   "id": "1ee1e29b-95f4-4f2e-acb6-2feceebe0b2d",
   "metadata": {},
   "outputs": [],
   "source": [
    "filter_names = list(filter(lambda fn: len(fn) > 2, first_name))"
   ]
  },
  {
   "cell_type": "code",
   "execution_count": 7,
   "id": "1e7131ce-27cf-478a-9891-04aaea8573bc",
   "metadata": {},
   "outputs": [],
   "source": [
    "# Counter(filter_names).most_common() "
   ]
  },
  {
   "cell_type": "markdown",
   "id": "0a5a0882-b37a-41af-94cd-72230529c00c",
   "metadata": {},
   "source": [
    "# Add Names to DataFrame"
   ]
  },
  {
   "cell_type": "code",
   "execution_count": 8,
   "id": "d2486720-da25-4cbb-adbc-47bb17ebb16a",
   "metadata": {},
   "outputs": [],
   "source": [
    "df = pd.DataFrame({\n",
    "    'First Name': filter_names\n",
    "})"
   ]
  },
  {
   "cell_type": "code",
   "execution_count": 9,
   "id": "693f6174-572b-4fb9-83fb-c8bdba46e7dc",
   "metadata": {},
   "outputs": [
    {
     "data": {
      "text/html": [
       "<div>\n",
       "<style scoped>\n",
       "    .dataframe tbody tr th:only-of-type {\n",
       "        vertical-align: middle;\n",
       "    }\n",
       "\n",
       "    .dataframe tbody tr th {\n",
       "        vertical-align: top;\n",
       "    }\n",
       "\n",
       "    .dataframe thead th {\n",
       "        text-align: right;\n",
       "    }\n",
       "</style>\n",
       "<table border=\"1\" class=\"dataframe\">\n",
       "  <thead>\n",
       "    <tr style=\"text-align: right;\">\n",
       "      <th></th>\n",
       "      <th>First Name</th>\n",
       "    </tr>\n",
       "  </thead>\n",
       "  <tbody>\n",
       "    <tr>\n",
       "      <th>0</th>\n",
       "      <td>a.20</td>\n",
       "    </tr>\n",
       "    <tr>\n",
       "      <th>1</th>\n",
       "      <td>sobhan</td>\n",
       "    </tr>\n",
       "    <tr>\n",
       "      <th>2</th>\n",
       "      <td>good</td>\n",
       "    </tr>\n",
       "    <tr>\n",
       "      <th>3</th>\n",
       "      <td>sima</td>\n",
       "    </tr>\n",
       "    <tr>\n",
       "      <th>4</th>\n",
       "      <td>hwsyn.si</td>\n",
       "    </tr>\n",
       "    <tr>\n",
       "      <th>...</th>\n",
       "      <td>...</td>\n",
       "    </tr>\n",
       "    <tr>\n",
       "      <th>1379</th>\n",
       "      <td>mary</td>\n",
       "    </tr>\n",
       "    <tr>\n",
       "      <th>1380</th>\n",
       "      <td>saeid</td>\n",
       "    </tr>\n",
       "    <tr>\n",
       "      <th>1381</th>\n",
       "      <td>ᴀᴍɪʀᴀʟɪ</td>\n",
       "    </tr>\n",
       "    <tr>\n",
       "      <th>1382</th>\n",
       "      <td>ali</td>\n",
       "    </tr>\n",
       "    <tr>\n",
       "      <th>1383</th>\n",
       "      <td>aristocles</td>\n",
       "    </tr>\n",
       "  </tbody>\n",
       "</table>\n",
       "<p>1384 rows × 1 columns</p>\n",
       "</div>"
      ],
      "text/plain": [
       "      First Name\n",
       "0           a.20\n",
       "1         sobhan\n",
       "2           good\n",
       "3           sima\n",
       "4       hwsyn.si\n",
       "...          ...\n",
       "1379        mary\n",
       "1380       saeid\n",
       "1381     ᴀᴍɪʀᴀʟɪ\n",
       "1382         ali\n",
       "1383  aristocles\n",
       "\n",
       "[1384 rows x 1 columns]"
      ]
     },
     "execution_count": 9,
     "metadata": {},
     "output_type": "execute_result"
    }
   ],
   "source": [
    "df"
   ]
  },
  {
   "cell_type": "markdown",
   "id": "09f7018f-5b89-45af-91db-6a6462aa6ac1",
   "metadata": {},
   "source": [
    "# Predict Gender"
   ]
  },
  {
   "cell_type": "code",
   "execution_count": 10,
   "id": "4381d1bf-c73e-4c7c-aaec-8aef9956a809",
   "metadata": {},
   "outputs": [],
   "source": [
    "def get_gender(f_n):\n",
    "    info = nd.search(f_n)['first_name']\n",
    "\n",
    "    if info is None:\n",
    "        return None\n",
    "    \n",
    "    return max(info['gender'], key=info['gender'].get)"
   ]
  },
  {
   "cell_type": "code",
   "execution_count": 11,
   "id": "3dd6e8fd-178f-481f-a109-692b52c00813",
   "metadata": {},
   "outputs": [],
   "source": [
    "df['Gender'] = df['First Name'].apply(get_gender)"
   ]
  },
  {
   "cell_type": "code",
   "execution_count": 12,
   "id": "7c20c4db-39f8-4aa5-956d-d803ffb0df4c",
   "metadata": {},
   "outputs": [
    {
     "data": {
      "text/html": [
       "<div>\n",
       "<style scoped>\n",
       "    .dataframe tbody tr th:only-of-type {\n",
       "        vertical-align: middle;\n",
       "    }\n",
       "\n",
       "    .dataframe tbody tr th {\n",
       "        vertical-align: top;\n",
       "    }\n",
       "\n",
       "    .dataframe thead th {\n",
       "        text-align: right;\n",
       "    }\n",
       "</style>\n",
       "<table border=\"1\" class=\"dataframe\">\n",
       "  <thead>\n",
       "    <tr style=\"text-align: right;\">\n",
       "      <th></th>\n",
       "      <th>First Name</th>\n",
       "      <th>Gender</th>\n",
       "    </tr>\n",
       "  </thead>\n",
       "  <tbody>\n",
       "    <tr>\n",
       "      <th>0</th>\n",
       "      <td>a.20</td>\n",
       "      <td>None</td>\n",
       "    </tr>\n",
       "    <tr>\n",
       "      <th>1</th>\n",
       "      <td>sobhan</td>\n",
       "      <td>Male</td>\n",
       "    </tr>\n",
       "    <tr>\n",
       "      <th>2</th>\n",
       "      <td>good</td>\n",
       "      <td>Male</td>\n",
       "    </tr>\n",
       "    <tr>\n",
       "      <th>3</th>\n",
       "      <td>sima</td>\n",
       "      <td>Female</td>\n",
       "    </tr>\n",
       "    <tr>\n",
       "      <th>4</th>\n",
       "      <td>hwsyn.si</td>\n",
       "      <td>None</td>\n",
       "    </tr>\n",
       "    <tr>\n",
       "      <th>...</th>\n",
       "      <td>...</td>\n",
       "      <td>...</td>\n",
       "    </tr>\n",
       "    <tr>\n",
       "      <th>1379</th>\n",
       "      <td>mary</td>\n",
       "      <td>Female</td>\n",
       "    </tr>\n",
       "    <tr>\n",
       "      <th>1380</th>\n",
       "      <td>saeid</td>\n",
       "      <td>Male</td>\n",
       "    </tr>\n",
       "    <tr>\n",
       "      <th>1381</th>\n",
       "      <td>ᴀᴍɪʀᴀʟɪ</td>\n",
       "      <td>None</td>\n",
       "    </tr>\n",
       "    <tr>\n",
       "      <th>1382</th>\n",
       "      <td>ali</td>\n",
       "      <td>Male</td>\n",
       "    </tr>\n",
       "    <tr>\n",
       "      <th>1383</th>\n",
       "      <td>aristocles</td>\n",
       "      <td>None</td>\n",
       "    </tr>\n",
       "  </tbody>\n",
       "</table>\n",
       "<p>1384 rows × 2 columns</p>\n",
       "</div>"
      ],
      "text/plain": [
       "      First Name  Gender\n",
       "0           a.20    None\n",
       "1         sobhan    Male\n",
       "2           good    Male\n",
       "3           sima  Female\n",
       "4       hwsyn.si    None\n",
       "...          ...     ...\n",
       "1379        mary  Female\n",
       "1380       saeid    Male\n",
       "1381     ᴀᴍɪʀᴀʟɪ    None\n",
       "1382         ali    Male\n",
       "1383  aristocles    None\n",
       "\n",
       "[1384 rows x 2 columns]"
      ]
     },
     "execution_count": 12,
     "metadata": {},
     "output_type": "execute_result"
    }
   ],
   "source": [
    "df"
   ]
  },
  {
   "cell_type": "code",
   "execution_count": 14,
   "id": "a94701cc-3aef-48b1-9e24-725f9d353ceb",
   "metadata": {},
   "outputs": [
    {
     "data": {
      "text/plain": [
       "Male      651\n",
       "Female    476\n",
       "Name: Gender, dtype: int64"
      ]
     },
     "execution_count": 14,
     "metadata": {},
     "output_type": "execute_result"
    }
   ],
   "source": [
    "df['Gender'].value_counts()"
   ]
  },
  {
   "cell_type": "code",
   "execution_count": 15,
   "id": "347db43a-5270-4fdf-b523-83421c3c686c",
   "metadata": {},
   "outputs": [
    {
     "data": {
      "text/plain": [
       "257"
      ]
     },
     "execution_count": 15,
     "metadata": {},
     "output_type": "execute_result"
    }
   ],
   "source": [
    "df['Gender'].isna().sum()"
   ]
  },
  {
   "cell_type": "code",
   "execution_count": null,
   "id": "bcd91d66-be2d-44ff-b100-4193037cfe07",
   "metadata": {},
   "outputs": [],
   "source": []
  }
 ],
 "metadata": {
  "kernelspec": {
   "display_name": "Python 3 (ipykernel)",
   "language": "python",
   "name": "python3"
  },
  "language_info": {
   "codemirror_mode": {
    "name": "ipython",
    "version": 3
   },
   "file_extension": ".py",
   "mimetype": "text/x-python",
   "name": "python",
   "nbconvert_exporter": "python",
   "pygments_lexer": "ipython3",
   "version": "3.7.13"
  }
 },
 "nbformat": 4,
 "nbformat_minor": 5
}
